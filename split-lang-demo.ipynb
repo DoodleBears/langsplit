{
 "cells": [
  {
   "cell_type": "code",
   "execution_count": 4,
   "metadata": {},
   "outputs": [],
   "source": [
    "%%capture\n",
    "%pip install split-lang"
   ]
  },
  {
   "cell_type": "code",
   "execution_count": 5,
   "metadata": {},
   "outputs": [
    {
     "name": "stdout",
     "output_type": "stream",
     "text": [
      "0|zh:你喜欢看\n",
      "1|ja:アニメ\n",
      "2|zh:吗\n",
      "3|punctuation:？\n",
      "----------------------\n"
     ]
    }
   ],
   "source": [
    "from split_lang import split_by_lang\n",
    "\n",
    "texts = [\n",
    "    \"你喜欢看アニメ吗？\",\n",
    "]\n",
    "\n",
    "for text in texts:\n",
    "    substr = split_by_lang(\n",
    "        text=text,\n",
    "        threshold=4.9e-5,\n",
    "        default_lang=\"en\",\n",
    "    )\n",
    "    for index, item in enumerate(substr):\n",
    "        print(f\"{index}|{item.lang}:{item.text}\")\n",
    "    print(\"----------------------\")"
   ]
  },
  {
   "cell_type": "code",
   "execution_count": 6,
   "metadata": {},
   "outputs": [
    {
     "name": "stdout",
     "output_type": "stream",
     "text": [
      "0|en:Please star this project on GitHub, Thanks you. I love you\n",
      "1|zh:请加星这个项目，谢谢你。我爱你\n",
      "2|ja:この項目をスターしてください、ありがとうございます！愛してる\n",
      "----------------------\n",
      "0|en:Please star this project on GitHub\n",
      "1|punctuation:, \n",
      "2|en:Thanks you\n",
      "3|punctuation:. \n",
      "4|en:I love you\n",
      "5|zh:请加星这个项目\n",
      "6|punctuation:，\n",
      "7|zh:谢谢你\n",
      "8|punctuation:。\n",
      "9|zh:我爱你\n",
      "10|ja:この項目をスターしてください\n",
      "11|punctuation:、\n",
      "12|ja:ありがとうございます\n",
      "13|punctuation:！\n",
      "14|ja:愛してる\n",
      "----------------------\n",
      "0.21093440055847168\n",
      "0.1847240924835205\n"
     ]
    }
   ],
   "source": [
    "import time\n",
    "texts = [\n",
    "    \"Please star this project on GitHub, Thanks you. I love you请加星这个项目，谢谢你。我爱你この項目をスターしてください、ありがとうございます！愛してる\",\n",
    "]\n",
    "time1 = time.time()\n",
    "for text in texts:\n",
    "    substr = split_by_lang(\n",
    "        text=text,\n",
    "        default_lang=\"en\",\n",
    "        threshold=4.9e-5,\n",
    "        merge_across_punctuation=True,\n",
    "    )\n",
    "    for index, item in enumerate(substr):\n",
    "        print(f\"{index}|{item.lang}:{item.text}\")\n",
    "    print(\"----------------------\")\n",
    "time2 = time.time()\n",
    "\n",
    "for text in texts:\n",
    "    substr = split_by_lang(\n",
    "        text=text,\n",
    "        default_lang=\"en\",\n",
    "        threshold=4.9e-5,\n",
    "        merge_across_punctuation=False,\n",
    "    )\n",
    "    for index, item in enumerate(substr):\n",
    "        print(f\"{index}|{item.lang}:{item.text}\")\n",
    "    print(\"----------------------\")\n",
    "time3 = time.time()\n",
    "\n",
    "print(time2 - time1)\n",
    "print(time3 - time2)"
   ]
  }
 ],
 "metadata": {
  "kernelspec": {
   "display_name": "melotts",
   "language": "python",
   "name": "python3"
  },
  "language_info": {
   "codemirror_mode": {
    "name": "ipython",
    "version": 3
   },
   "file_extension": ".py",
   "mimetype": "text/x-python",
   "name": "python",
   "nbconvert_exporter": "python",
   "pygments_lexer": "ipython3",
   "version": "3.10.14"
  }
 },
 "nbformat": 4,
 "nbformat_minor": 2
}
