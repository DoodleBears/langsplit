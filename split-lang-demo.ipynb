{
 "cells": [
  {
   "cell_type": "code",
   "execution_count": 8,
   "metadata": {},
   "outputs": [],
   "source": [
    "%%capture\n",
    "%pip install split-lang"
   ]
  },
  {
   "cell_type": "code",
   "execution_count": 40,
   "metadata": {},
   "outputs": [
    {
     "name": "stdout",
     "output_type": "stream",
     "text": [
      "0|zh:我在学习日本語\n",
      "1|ja:少し難しいです\n",
      "2|punctuation:。\n",
      "----------------------\n"
     ]
    }
   ],
   "source": [
    "from split_lang import split_by_lang\n",
    "\n",
    "texts = [\n",
    "    # \"你喜欢看アニメ吗？\",\n",
    "    \"我在学习日本語少し難しいです。\"\n",
    "]\n",
    "\n",
    "for text in texts:\n",
    "    substr = split_by_lang(\n",
    "        text=text,\n",
    "        threshold=1e-4,\n",
    "        default_lang=\"x\",\n",
    "    )\n",
    "    for index, item in enumerate(substr):\n",
    "        print(f\"{index}|{item.lang}:{item.text}\")\n",
    "    print(\"----------------------\")"
   ]
  },
  {
   "cell_type": "code",
   "execution_count": 41,
   "metadata": {},
   "outputs": [
    {
     "name": "stdout",
     "output_type": "stream",
     "text": [
      "0|en:Please star this project on GitHub, Thanks you. I love you\n",
      "1|zh:请加星这个项目，谢谢你。我爱你\n",
      "2|ja:この項目をスターしてください、ありがとうございます！愛してる\n",
      "----------------------\n",
      "0|en:Please star this project on GitHub\n",
      "1|punctuation:, \n",
      "2|en:Thanks you\n",
      "3|punctuation:. \n",
      "4|en:I love you\n",
      "5|zh:请加星这个项目\n",
      "6|punctuation:，\n",
      "7|zh:谢谢你\n",
      "8|punctuation:。\n",
      "9|zh:我爱你\n",
      "10|ja:この項目をスターしてください\n",
      "11|punctuation:、\n",
      "12|ja:ありがとうございます\n",
      "13|punctuation:！\n",
      "14|ja:愛してる\n",
      "----------------------\n",
      "0.218491792678833\n",
      "0.17476129531860352\n"
     ]
    }
   ],
   "source": [
    "import time\n",
    "texts = [\n",
    "    \"Please star this project on GitHub, Thanks you. I love you请加星这个项目，谢谢你。我爱你この項目をスターしてください、ありがとうございます！愛してる\",\n",
    "]\n",
    "time1 = time.time()\n",
    "for text in texts:\n",
    "    substr = split_by_lang(\n",
    "        text=text,\n",
    "        default_lang=\"en\",\n",
    "        threshold=4.9e-5,\n",
    "        merge_across_punctuation=True,\n",
    "    )\n",
    "    for index, item in enumerate(substr):\n",
    "        print(f\"{index}|{item.lang}:{item.text}\")\n",
    "    print(\"----------------------\")\n",
    "time2 = time.time()\n",
    "\n",
    "for text in texts:\n",
    "    substr = split_by_lang(\n",
    "        text=text,\n",
    "        default_lang=\"en\",\n",
    "        threshold=4.9e-5,\n",
    "        merge_across_punctuation=False,\n",
    "    )\n",
    "    for index, item in enumerate(substr):\n",
    "        print(f\"{index}|{item.lang}:{item.text}\")\n",
    "    print(\"----------------------\")\n",
    "time3 = time.time()\n",
    "\n",
    "print(time2 - time1)\n",
    "print(time3 - time2)"
   ]
  },
  {
   "cell_type": "code",
   "execution_count": 42,
   "metadata": {},
   "outputs": [
    {
     "ename": "TypeError",
     "evalue": "split_by_lang() got an unexpected keyword argument 'merge_across_digit'",
     "output_type": "error",
     "traceback": [
      "\u001b[1;31m---------------------------------------------------------------------------\u001b[0m",
      "\u001b[1;31mTypeError\u001b[0m                                 Traceback (most recent call last)",
      "Cell \u001b[1;32mIn[42], line 9\u001b[0m\n\u001b[0;32m      1\u001b[0m texts_with_digit \u001b[38;5;241m=\u001b[39m [\n\u001b[0;32m      2\u001b[0m     \u001b[38;5;124m\"\u001b[39m\u001b[38;5;124m你喜欢看アニメ吗？\u001b[39m\u001b[38;5;124m\"\u001b[39m,\n\u001b[0;32m      3\u001b[0m     \u001b[38;5;124m\"\u001b[39m\u001b[38;5;124m衬衫的价格是9.15便士\u001b[39m\u001b[38;5;124m\"\u001b[39m,\n\u001b[0;32m      4\u001b[0m     \u001b[38;5;124m\"\u001b[39m\u001b[38;5;124m衬衫的价格是233亿元\u001b[39m\u001b[38;5;124m\"\u001b[39m,\n\u001b[0;32m      5\u001b[0m     \u001b[38;5;124m\"\u001b[39m\u001b[38;5;124m衬衫的价格是233亿元人民币\u001b[39m\u001b[38;5;124m\"\u001b[39m,\n\u001b[0;32m      6\u001b[0m ]\n\u001b[0;32m      8\u001b[0m \u001b[38;5;28;01mfor\u001b[39;00m text \u001b[38;5;129;01min\u001b[39;00m texts_with_digit:\n\u001b[1;32m----> 9\u001b[0m     substr \u001b[38;5;241m=\u001b[39m \u001b[43msplit_by_lang\u001b[49m\u001b[43m(\u001b[49m\n\u001b[0;32m     10\u001b[0m \u001b[43m        \u001b[49m\u001b[43mtext\u001b[49m\u001b[38;5;241;43m=\u001b[39;49m\u001b[43mtext\u001b[49m\u001b[43m,\u001b[49m\n\u001b[0;32m     11\u001b[0m \u001b[43m        \u001b[49m\u001b[43mverbose\u001b[49m\u001b[38;5;241;43m=\u001b[39;49m\u001b[38;5;28;43;01mFalse\u001b[39;49;00m\u001b[43m,\u001b[49m\n\u001b[0;32m     12\u001b[0m \u001b[43m        \u001b[49m\u001b[43mthreshold\u001b[49m\u001b[38;5;241;43m=\u001b[39;49m\u001b[38;5;241;43m4.9e-5\u001b[39;49m\u001b[43m,\u001b[49m\n\u001b[0;32m     13\u001b[0m \u001b[43m        \u001b[49m\u001b[43mmerge_across_digit\u001b[49m\u001b[38;5;241;43m=\u001b[39;49m\u001b[38;5;28;43;01mFalse\u001b[39;49;00m\u001b[43m,\u001b[49m\n\u001b[0;32m     14\u001b[0m \u001b[43m    \u001b[49m\u001b[43m)\u001b[49m\n\u001b[0;32m     15\u001b[0m     \u001b[38;5;28;01mfor\u001b[39;00m index, item \u001b[38;5;129;01min\u001b[39;00m \u001b[38;5;28menumerate\u001b[39m(substr):\n\u001b[0;32m     16\u001b[0m         \u001b[38;5;28mprint\u001b[39m(item)\n",
      "\u001b[1;31mTypeError\u001b[0m: split_by_lang() got an unexpected keyword argument 'merge_across_digit'"
     ]
    }
   ],
   "source": [
    "texts_with_digit = [\n",
    "    \"你喜欢看アニメ吗？\",\n",
    "    \"衬衫的价格是9.15便士\",\n",
    "    \"衬衫的价格是233亿元\",\n",
    "    \"衬衫的价格是233亿元人民币\",\n",
    "]\n",
    "\n",
    "for text in texts_with_digit:\n",
    "    substr = split_by_lang(\n",
    "        text=text,\n",
    "        verbose=False,\n",
    "        threshold=4.9e-5,\n",
    "        merge_across_digit=False,\n",
    "    )\n",
    "    for index, item in enumerate(substr):\n",
    "        print(item)\n",
    "        # print(f\"{index}|{item.lang}:{item.text}\")\n",
    "    print(\"----------------------\")\n",
    "\n",
    "for text in texts_with_digit:\n",
    "    substr = split_by_lang(\n",
    "        text=text,\n",
    "        verbose=False,\n",
    "        lang_map=new_lang_map,\n",
    "        threshold=4.9e-5,\n",
    "        merge_across_punctuation=True,\n",
    "    )\n",
    "    for index, item in enumerate(substr):\n",
    "        print(item)\n",
    "        # print(f\"{index}|{item.lang}:{item.text}\")\n",
    "    print(\"----------------------\")"
   ]
  },
  {
   "cell_type": "code",
   "execution_count": null,
   "metadata": {},
   "outputs": [
    {
     "name": "stdout",
     "output_type": "stream",
     "text": [
      "[{'lang': 'ja', 'score': 0.9874604940414429}, {'lang': 'zh', 'score': 0.01241611409932375}, {'lang': 'en', 'score': 0.00012938689906150103}, {'lang': 'vi', 'score': 2.498264620953705e-05}, {'lang': 'ar', 'score': 2.3217224224936217e-05}]\n"
     ]
    }
   ],
   "source": [
    "import logging\n",
    "import langdetect\n",
    "import fast_langdetect\n",
    "\n",
    "print(fast_langdetect.detect_multilingual('西野'))\n"
   ]
  }
 ],
 "metadata": {
  "kernelspec": {
   "display_name": "melotts",
   "language": "python",
   "name": "python3"
  },
  "language_info": {
   "codemirror_mode": {
    "name": "ipython",
    "version": 3
   },
   "file_extension": ".py",
   "mimetype": "text/x-python",
   "name": "python",
   "nbconvert_exporter": "python",
   "pygments_lexer": "ipython3",
   "version": "3.10.14"
  }
 },
 "nbformat": 4,
 "nbformat_minor": 2
}
