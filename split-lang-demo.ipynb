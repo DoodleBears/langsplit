{
 "cells": [
  {
   "cell_type": "code",
   "execution_count": null,
   "metadata": {},
   "outputs": [],
   "source": [
    "%pip install split-lang --upgrade"
   ]
  },
  {
   "cell_type": "code",
   "execution_count": null,
   "metadata": {},
   "outputs": [],
   "source": [
    "from split_lang import split_by_lang\n",
    "\n",
    "texts = [\n",
    "    \"你喜欢看アニメ吗？\",\n",
    "]\n",
    "\n",
    "for text in texts:\n",
    "    substr = split_by_lang(\n",
    "        text=text,\n",
    "        threshold=4.9e-5,\n",
    "        default_lang=\"en\",\n",
    "    )\n",
    "    for index, item in enumerate(substr):\n",
    "        print(f\"{index}|{item.lang}:{item.text}\")\n",
    "    print(\"----------------------\")"
   ]
  }
 ],
 "metadata": {
  "kernelspec": {
   "display_name": "melotts",
   "language": "python",
   "name": "python3"
  },
  "language_info": {
   "codemirror_mode": {
    "name": "ipython",
    "version": 3
   },
   "file_extension": ".py",
   "mimetype": "text/x-python",
   "name": "python",
   "nbconvert_exporter": "python",
   "pygments_lexer": "ipython3",
   "version": "3.10.14"
  }
 },
 "nbformat": 4,
 "nbformat_minor": 2
}
