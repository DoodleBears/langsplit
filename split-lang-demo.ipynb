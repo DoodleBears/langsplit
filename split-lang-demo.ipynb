{
  "cells": [
    {
      "cell_type": "code",
      "execution_count": 1,
      "metadata": {},
      "outputs": [],
      "source": [
        "%%capture\n",
        "%pip install split-lang==1.3.5"
      ]
    },
    {
      "cell_type": "code",
      "execution_count": 2,
      "metadata": {},
      "outputs": [
        {
          "name": "stderr",
          "output_type": "stream",
          "text": [
            "c:\\Users\\admin\\.conda\\envs\\melotts\\lib\\site-packages\\tqdm\\auto.py:21: TqdmWarning: IProgress not found. Please update jupyter and ipywidgets. See https://ipywidgets.readthedocs.io/en/stable/user_install.html\n",
            "  from .autonotebook import tqdm as notebook_tqdm\n"
          ]
        }
      ],
      "source": [
        "from split_lang import LangSplitter\n",
        "lang_splitter = LangSplitter()"
      ]
    },
    {
      "cell_type": "code",
      "execution_count": 3,
      "metadata": {},
      "outputs": [
        {
          "name": "stdout",
          "output_type": "stream",
          "text": [
            "0|zh:你喜欢看\n",
            "1|ja:アニメ\n",
            "2|zh:吗\n"
          ]
        }
      ],
      "source": [
        "text = \"你喜欢看アニメ吗\"\n",
        "\n",
        "substr = lang_splitter.split_by_lang(\n",
        "    text=text,\n",
        ")\n",
        "for index, item in enumerate(substr):\n",
        "    print(f\"{index}|{item.lang}:{item.text}\")"
      ]
    },
    {
      "cell_type": "code",
      "execution_count": 4,
      "metadata": {},
      "outputs": [
        {
          "name": "stdout",
          "output_type": "stream",
          "text": [
            "0|zh:你喜欢看\n",
            "1|ja:アニメ\n",
            "2|zh:吗？我也喜欢看\n",
            "----------------------\n",
            "0|en:Please star this project on GitHub, Thanks you. I love you\n",
            "1|zh:请加星这个项目，谢谢你。我爱你\n",
            "2|ja:この項目をスターしてください、ありがとうございます！愛してる\n",
            "----------------------\n",
            "0|ja:日本語（にほんご、にっぽんご）は、日本国内や、かつての日本領だった国、そして\n",
            "1|zh:国外移民\n",
            "2|ja:や移住者を含む\n",
            "3|zh:日本人\n",
            "4|ja:同士の間で使用されている言語。日本は法令によって公用語を規定していないが、法令その他の公用文は全て日本語で記述され、各種法令において日本語を用いることが規定され、学校教育においては「国語」の教科として学習を行うなど、事実上日本国内において唯一の公用語となっている。\n",
            "----------------------\n",
            "0.015008926391601562\n"
          ]
        }
      ],
      "source": [
        "lang_splitter.merge_across_punctuation=True\n",
        "import time\n",
        "texts = [\n",
        "    \"你喜欢看アニメ吗？我也喜欢看\",\n",
        "    \"Please star this project on GitHub, Thanks you. I love you请加星这个项目，谢谢你。我爱你この項目をスターしてください、ありがとうございます！愛してる\",\n",
        "    \"日本語（にほんご、にっぽんご）は、日本国内や、かつての日本領だった国、そして国外移民や移住者を含む日本人同士の間で使用されている言語。日本は法令によって公用語を規定していないが、法令その他の公用文は全て日本語で記述され、各種法令において日本語を用いることが規定され、学校教育においては「国語」の教科として学習を行うなど、事実上日本国内において唯一の公用語となっている。\"\n",
        "]\n",
        "time1 = time.time()\n",
        "for text in texts:\n",
        "    substr = lang_splitter.split_by_lang(\n",
        "        text=text,\n",
        "    )\n",
        "    for index, item in enumerate(substr):\n",
        "        print(f\"{index}|{item.lang}:{item.text}\")\n",
        "    print(\"----------------------\")\n",
        "time2 = time.time()\n",
        "print(time2 - time1)"
      ]
    },
    {
      "cell_type": "code",
      "execution_count": 5,
      "metadata": {},
      "outputs": [
        {
          "name": "stdout",
          "output_type": "stream",
          "text": [
            "0|zh:你喜欢看\n",
            "1|ja:アニメ\n",
            "2|zh:吗\n",
            "3|punctuation:？\n",
            "4|zh:我也喜欢看\n",
            "----------------------\n",
            "0|en:Please star this project on GitHub\n",
            "1|punctuation:, \n",
            "2|en:Thanks you\n",
            "3|punctuation:. \n",
            "4|en:I love you\n",
            "5|zh:请加星这个项目\n",
            "6|punctuation:，\n",
            "7|zh:谢谢你\n",
            "8|punctuation:。\n",
            "9|zh:我爱你\n",
            "10|ja:この項目をスターしてください\n",
            "11|punctuation:、\n",
            "12|ja:ありがとうございます\n",
            "13|punctuation:！\n",
            "14|ja:愛してる\n",
            "----------------------\n",
            "0|ja:日本語\n",
            "1|punctuation:（\n",
            "2|ja:にほんご\n",
            "3|punctuation:、\n",
            "4|ja:にっぽんご\n",
            "5|punctuation:）\n",
            "6|ja:は\n",
            "7|punctuation:、\n",
            "8|ja:日本国内や\n",
            "9|punctuation:、\n",
            "10|ja:かつての日本領だった国\n",
            "11|punctuation:、\n",
            "12|ja:そして\n",
            "13|zh:国外移民\n",
            "14|ja:や移住者を含む\n",
            "15|zh:日本人\n",
            "16|ja:同士の間で使用されている言語\n",
            "17|punctuation:。\n",
            "18|ja:日本は法令によって公用語を規定していないが\n",
            "19|punctuation:、\n",
            "20|ja:法令その他の公用文は全て日本語で記述され\n",
            "21|punctuation:、\n",
            "22|ja:各種法令において日本語を用いることが規定され\n",
            "23|punctuation:、\n",
            "24|ja:学校教育においては\n",
            "25|punctuation:「\n",
            "26|ja:国語\n",
            "27|punctuation:」\n",
            "28|ja:の教科として学習を行うなど\n",
            "29|punctuation:、\n",
            "30|ja:事実上日本国内において唯一の公用語となっている\n",
            "31|punctuation:。\n",
            "----------------------\n",
            "0.011213302612304688\n"
          ]
        }
      ],
      "source": [
        "lang_splitter.merge_across_punctuation = False\n",
        "time1 = time.time()\n",
        "for text in texts:\n",
        "    substr = lang_splitter.split_by_lang(\n",
        "        text=text,\n",
        "    )\n",
        "    for index, item in enumerate(substr):\n",
        "        print(f\"{index}|{item.lang}:{item.text}\")\n",
        "    print(\"----------------------\")\n",
        "time2 = time.time()\n",
        "print(time2 - time1)"
      ]
    },
    {
      "cell_type": "code",
      "execution_count": 6,
      "metadata": {},
      "outputs": [
        {
          "name": "stdout",
          "output_type": "stream",
          "text": [
            "0|zh:衬衫的价格是\n",
            "1|digit:9.15\n",
            "2|zh:便士\n"
          ]
        }
      ],
      "source": [
        "lang_splitter.merge_across_digit = False\n",
        "texts = [\n",
        "    \"衬衫的价格是9.15便士\",\n",
        "]\n",
        "for text in texts:\n",
        "    substr = lang_splitter.split_by_lang(\n",
        "        text=text,\n",
        "    )\n",
        "    for index, item in enumerate(substr):\n",
        "        print(f\"{index}|{item.lang}:{item.text}\")"
      ]
    }
  ],
  "metadata": {
    "kernelspec": {
      "display_name": "melotts",
      "language": "python",
      "name": "python3"
    },
    "language_info": {
      "codemirror_mode": {
        "name": "ipython",
        "version": 3
      },
      "file_extension": ".py",
      "mimetype": "text/x-python",
      "name": "python",
      "nbconvert_exporter": "python",
      "pygments_lexer": "ipython3",
      "version": "3.10.14"
    }
  },
  "nbformat": 4,
  "nbformat_minor": 2
}
