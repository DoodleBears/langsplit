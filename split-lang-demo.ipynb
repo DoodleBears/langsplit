{
 "cells": [
  {
   "cell_type": "code",
   "execution_count": 1,
   "metadata": {},
   "outputs": [
    {
     "name": "stdout",
     "output_type": "stream",
     "text": [
      "Requirement already satisfied: split-lang in c:\\users\\admin\\.conda\\envs\\melotts\\lib\\site-packages (0.4.3)\n",
      "Collecting split-lang\n",
      "  Downloading split_lang-1.0.0-py3-none-any.whl.metadata (4.8 kB)\n",
      "Requirement already satisfied: langdetect in c:\\users\\admin\\.conda\\envs\\melotts\\lib\\site-packages (from split-lang) (1.0.7)\n",
      "Requirement already satisfied: fast-langdetect in c:\\users\\admin\\.conda\\envs\\melotts\\lib\\site-packages (from split-lang) (0.1.1)\n",
      "Requirement already satisfied: wtpsplit in c:\\users\\admin\\.conda\\envs\\melotts\\lib\\site-packages (from split-lang) (2.0.3)\n",
      "Requirement already satisfied: pydantic in c:\\users\\admin\\.conda\\envs\\melotts\\lib\\site-packages (from split-lang) (2.7.4)\n",
      "Requirement already satisfied: fasttext-wheel>=0.9.2 in c:\\users\\admin\\.conda\\envs\\melotts\\lib\\site-packages (from fast-langdetect->split-lang) (0.9.2)\n",
      "Requirement already satisfied: requests>=2.31.0 in c:\\users\\admin\\.conda\\envs\\melotts\\lib\\site-packages (from fast-langdetect->split-lang) (2.32.3)\n",
      "Requirement already satisfied: robust-downloader>=0.0.2 in c:\\users\\admin\\.conda\\envs\\melotts\\lib\\site-packages (from fast-langdetect->split-lang) (0.0.2)\n",
      "Requirement already satisfied: numpy<2.0.0,>=1.26.4 in c:\\users\\admin\\.conda\\envs\\melotts\\lib\\site-packages (from fast-langdetect->split-lang) (1.26.4)\n",
      "Requirement already satisfied: six in c:\\users\\admin\\.conda\\envs\\melotts\\lib\\site-packages (from langdetect->split-lang) (1.16.0)\n",
      "Requirement already satisfied: annotated-types>=0.4.0 in c:\\users\\admin\\.conda\\envs\\melotts\\lib\\site-packages (from pydantic->split-lang) (0.7.0)\n",
      "Requirement already satisfied: pydantic-core==2.18.4 in c:\\users\\admin\\.conda\\envs\\melotts\\lib\\site-packages (from pydantic->split-lang) (2.18.4)\n",
      "Requirement already satisfied: typing-extensions>=4.6.1 in c:\\users\\admin\\.conda\\envs\\melotts\\lib\\site-packages (from pydantic->split-lang) (4.12.2)\n",
      "Requirement already satisfied: onnxruntime>=1.13.1 in c:\\users\\admin\\.conda\\envs\\melotts\\lib\\site-packages (from wtpsplit->split-lang) (1.18.0)\n",
      "Requirement already satisfied: transformers>=4.22.2 in c:\\users\\admin\\.conda\\envs\\melotts\\lib\\site-packages (from wtpsplit->split-lang) (4.39.3)\n",
      "Requirement already satisfied: scikit-learn>=1 in c:\\users\\admin\\.conda\\envs\\melotts\\lib\\site-packages (from wtpsplit->split-lang) (1.5.0)\n",
      "Requirement already satisfied: tqdm in c:\\users\\admin\\.conda\\envs\\melotts\\lib\\site-packages (from wtpsplit->split-lang) (4.66.4)\n",
      "Requirement already satisfied: skops in c:\\users\\admin\\.conda\\envs\\melotts\\lib\\site-packages (from wtpsplit->split-lang) (0.9.0)\n",
      "Requirement already satisfied: pandas>=1 in c:\\users\\admin\\.conda\\envs\\melotts\\lib\\site-packages (from wtpsplit->split-lang) (2.0.3)\n",
      "Requirement already satisfied: cached-property in c:\\users\\admin\\.conda\\envs\\melotts\\lib\\site-packages (from wtpsplit->split-lang) (1.5.2)\n",
      "Requirement already satisfied: mosestokenizer in c:\\users\\admin\\.conda\\envs\\melotts\\lib\\site-packages\\mosestokenizer-1.2.1-py3.10.egg (from wtpsplit->split-lang) (1.2.1)\n",
      "Requirement already satisfied: adapters==0.2.1 in c:\\users\\admin\\.conda\\envs\\melotts\\lib\\site-packages (from wtpsplit->split-lang) (0.2.1)\n",
      "Requirement already satisfied: pybind11>=2.2 in c:\\users\\admin\\.conda\\envs\\melotts\\lib\\site-packages (from fasttext-wheel>=0.9.2->fast-langdetect->split-lang) (2.13.1)\n",
      "Requirement already satisfied: setuptools>=0.7.0 in c:\\users\\admin\\.conda\\envs\\melotts\\lib\\site-packages (from fasttext-wheel>=0.9.2->fast-langdetect->split-lang) (69.5.1)\n",
      "Requirement already satisfied: coloredlogs in c:\\users\\admin\\.conda\\envs\\melotts\\lib\\site-packages (from onnxruntime>=1.13.1->wtpsplit->split-lang) (15.0.1)\n",
      "Requirement already satisfied: flatbuffers in c:\\users\\admin\\.conda\\envs\\melotts\\lib\\site-packages (from onnxruntime>=1.13.1->wtpsplit->split-lang) (24.3.25)\n",
      "Requirement already satisfied: packaging in c:\\users\\admin\\.conda\\envs\\melotts\\lib\\site-packages (from onnxruntime>=1.13.1->wtpsplit->split-lang) (24.1)\n",
      "Requirement already satisfied: protobuf in c:\\users\\admin\\.conda\\envs\\melotts\\lib\\site-packages (from onnxruntime>=1.13.1->wtpsplit->split-lang) (5.27.2)\n",
      "Requirement already satisfied: sympy in c:\\users\\admin\\.conda\\envs\\melotts\\lib\\site-packages (from onnxruntime>=1.13.1->wtpsplit->split-lang) (1.12.1)\n",
      "Requirement already satisfied: python-dateutil>=2.8.2 in c:\\users\\admin\\.conda\\envs\\melotts\\lib\\site-packages (from pandas>=1->wtpsplit->split-lang) (2.9.0)\n",
      "Requirement already satisfied: pytz>=2020.1 in c:\\users\\admin\\.conda\\envs\\melotts\\lib\\site-packages (from pandas>=1->wtpsplit->split-lang) (2024.1)\n",
      "Requirement already satisfied: tzdata>=2022.1 in c:\\users\\admin\\.conda\\envs\\melotts\\lib\\site-packages (from pandas>=1->wtpsplit->split-lang) (2024.1)\n",
      "Requirement already satisfied: charset-normalizer<4,>=2 in c:\\users\\admin\\.conda\\envs\\melotts\\lib\\site-packages (from requests>=2.31.0->fast-langdetect->split-lang) (3.3.2)\n",
      "Requirement already satisfied: idna<4,>=2.5 in c:\\users\\admin\\.conda\\envs\\melotts\\lib\\site-packages (from requests>=2.31.0->fast-langdetect->split-lang) (3.7)\n",
      "Requirement already satisfied: urllib3<3,>=1.21.1 in c:\\users\\admin\\.conda\\envs\\melotts\\lib\\site-packages (from requests>=2.31.0->fast-langdetect->split-lang) (2.2.2)\n",
      "Requirement already satisfied: certifi>=2017.4.17 in c:\\users\\admin\\.conda\\envs\\melotts\\lib\\site-packages (from requests>=2.31.0->fast-langdetect->split-lang) (2024.6.2)\n",
      "Requirement already satisfied: colorlog in c:\\users\\admin\\.conda\\envs\\melotts\\lib\\site-packages (from robust-downloader>=0.0.2->fast-langdetect->split-lang) (6.8.2)\n",
      "Requirement already satisfied: scipy>=1.6.0 in c:\\users\\admin\\.conda\\envs\\melotts\\lib\\site-packages (from scikit-learn>=1->wtpsplit->split-lang) (1.11.4)\n",
      "Requirement already satisfied: joblib>=1.2.0 in c:\\users\\admin\\.conda\\envs\\melotts\\lib\\site-packages (from scikit-learn>=1->wtpsplit->split-lang) (1.4.2)\n",
      "Requirement already satisfied: threadpoolctl>=3.1.0 in c:\\users\\admin\\.conda\\envs\\melotts\\lib\\site-packages (from scikit-learn>=1->wtpsplit->split-lang) (3.5.0)\n",
      "Requirement already satisfied: filelock in c:\\users\\admin\\.conda\\envs\\melotts\\lib\\site-packages (from transformers>=4.22.2->wtpsplit->split-lang) (3.13.4)\n",
      "Requirement already satisfied: huggingface-hub<1.0,>=0.19.3 in c:\\users\\admin\\.conda\\envs\\melotts\\lib\\site-packages (from transformers>=4.22.2->wtpsplit->split-lang) (0.23.4)\n",
      "Requirement already satisfied: pyyaml>=5.1 in c:\\users\\admin\\.conda\\envs\\melotts\\lib\\site-packages (from transformers>=4.22.2->wtpsplit->split-lang) (6.0.1)\n",
      "Requirement already satisfied: regex!=2019.12.17 in c:\\users\\admin\\.conda\\envs\\melotts\\lib\\site-packages (from transformers>=4.22.2->wtpsplit->split-lang) (2024.5.15)\n",
      "Requirement already satisfied: tokenizers<0.19,>=0.14 in c:\\users\\admin\\.conda\\envs\\melotts\\lib\\site-packages (from transformers>=4.22.2->wtpsplit->split-lang) (0.15.2)\n",
      "Requirement already satisfied: safetensors>=0.4.1 in c:\\users\\admin\\.conda\\envs\\melotts\\lib\\site-packages (from transformers>=4.22.2->wtpsplit->split-lang) (0.4.3)\n",
      "Requirement already satisfied: colorama in c:\\users\\admin\\.conda\\envs\\melotts\\lib\\site-packages (from tqdm->wtpsplit->split-lang) (0.4.6)\n",
      "Requirement already satisfied: docopt in c:\\users\\admin\\.conda\\envs\\melotts\\lib\\site-packages (from mosestokenizer->wtpsplit->split-lang) (0.6.2)\n",
      "Requirement already satisfied: openfile in c:\\users\\admin\\.conda\\envs\\melotts\\lib\\site-packages\\openfile-0.0.7-py3.10.egg (from mosestokenizer->wtpsplit->split-lang) (0.0.7)\n",
      "Requirement already satisfied: uctools in c:\\users\\admin\\.conda\\envs\\melotts\\lib\\site-packages\\uctools-1.3.0-py3.10.egg (from mosestokenizer->wtpsplit->split-lang) (1.3.0)\n",
      "Requirement already satisfied: toolwrapper in c:\\users\\admin\\.conda\\envs\\melotts\\lib\\site-packages\\toolwrapper-2.1.0-py3.10.egg (from mosestokenizer->wtpsplit->split-lang) (2.1.0)\n",
      "Requirement already satisfied: tabulate>=0.8.8 in c:\\users\\admin\\.conda\\envs\\melotts\\lib\\site-packages (from skops->wtpsplit->split-lang) (0.9.0)\n",
      "Requirement already satisfied: fsspec>=2023.5.0 in c:\\users\\admin\\.conda\\envs\\melotts\\lib\\site-packages (from huggingface-hub<1.0,>=0.19.3->transformers>=4.22.2->wtpsplit->split-lang) (2024.6.0)\n",
      "Requirement already satisfied: humanfriendly>=9.1 in c:\\users\\admin\\.conda\\envs\\melotts\\lib\\site-packages (from coloredlogs->onnxruntime>=1.13.1->wtpsplit->split-lang) (10.0)\n",
      "Requirement already satisfied: mpmath<1.4.0,>=1.1.0 in c:\\users\\admin\\.conda\\envs\\melotts\\lib\\site-packages (from sympy->onnxruntime>=1.13.1->wtpsplit->split-lang) (1.3.0)\n",
      "Requirement already satisfied: pyreadline3 in c:\\users\\admin\\.conda\\envs\\melotts\\lib\\site-packages (from humanfriendly>=9.1->coloredlogs->onnxruntime>=1.13.1->wtpsplit->split-lang) (3.4.1)\n",
      "Downloading split_lang-1.0.0-py3-none-any.whl (16 kB)\n",
      "Installing collected packages: split-lang\n",
      "  Attempting uninstall: split-lang\n",
      "    Found existing installation: split-lang 0.4.3\n",
      "    Uninstalling split-lang-0.4.3:\n",
      "      Successfully uninstalled split-lang-0.4.3\n",
      "Successfully installed split-lang-1.0.0\n",
      "Note: you may need to restart the kernel to use updated packages.\n"
     ]
    }
   ],
   "source": [
    "%pip install split-lang --upgrade\n",
    "%pip install numpy==1.26.0"
   ]
  },
  {
   "cell_type": "code",
   "execution_count": 2,
   "metadata": {},
   "outputs": [
    {
     "name": "stderr",
     "output_type": "stream",
     "text": [
      "c:\\Users\\admin\\.conda\\envs\\melotts\\lib\\site-packages\\tqdm\\auto.py:21: TqdmWarning: IProgress not found. Please update jupyter and ipywidgets. See https://ipywidgets.readthedocs.io/en/stable/user_install.html\n",
      "  from .autonotebook import tqdm as notebook_tqdm\n",
      "c:\\Users\\admin\\.conda\\envs\\melotts\\lib\\site-packages\\wtpsplit\\__init__.py:48: DeprecationWarning: You are using WtP, the old sentence segmentation model. It is highly encouraged to use SaT instead due to strongly improved performance and efficiency. See https://github.com/segment-any-text/wtpsplit for more info. To ignore this warning, set ignore_legacy_warning=True.\n",
      "  warnings.warn(\n",
      "c:\\Users\\admin\\.conda\\envs\\melotts\\lib\\site-packages\\huggingface_hub\\file_download.py:1132: FutureWarning: `resume_download` is deprecated and will be removed in version 1.0.0. Downloads always resume when possible. If you want to force a new download, use `force_download=True`.\n",
      "  warnings.warn(\n",
      "2024-07-01 04:31:11,854  DEBUG [urllib3.connectionpool]: Starting new HTTPS connection (1): huggingface.co:443\n",
      "2024-07-01 04:31:12,088  DEBUG [urllib3.connectionpool]: https://huggingface.co:443 \"HEAD /benjamin/wtp-bert-mini/resolve/main/mixtures.skops HTTP/11\" 302 0\n",
      "2024-07-01 04:31:12,638  DEBUG [urllib3.connectionpool]: https://huggingface.co:443 \"HEAD /benjamin/wtp-bert-mini/resolve/main/config.json HTTP/11\" 200 0\n",
      "c:\\Users\\admin\\.conda\\envs\\melotts\\lib\\site-packages\\sklearn\\base.py:376: InconsistentVersionWarning: Trying to unpickle estimator LogisticRegression from version 1.2.2 when using version 1.5.0. This might lead to breaking code or invalid results. Use at your own risk. For more info please refer to:\n",
      "https://scikit-learn.org/stable/model_persistence.html#security-maintainability-limitations\n",
      "  warnings.warn(\n"
     ]
    },
    {
     "name": "stdout",
     "output_type": "stream",
     "text": [
      "0|zh:你喜欢看\n",
      "1|ja:アニメ\n",
      "2|zh:吗\n",
      "3|punctuation:？\n",
      "----------------------\n"
     ]
    }
   ],
   "source": [
    "from split_lang import split_by_lang\n",
    "\n",
    "texts = [\n",
    "    \"你喜欢看アニメ吗？\",\n",
    "]\n",
    "\n",
    "for text in texts:\n",
    "    substr = split_by_lang(\n",
    "        text=text,\n",
    "        threshold=4.9e-5,\n",
    "        default_lang=\"en\",\n",
    "    )\n",
    "    for index, item in enumerate(substr):\n",
    "        print(f\"{index}|{item.lang}:{item.text}\")\n",
    "    print(\"----------------------\")"
   ]
  },
  {
   "cell_type": "code",
   "execution_count": 17,
   "metadata": {},
   "outputs": [
    {
     "name": "stdout",
     "output_type": "stream",
     "text": [
      "0|en:Please star this project on GitHub, Thanks you. I love you\n",
      "1|zh:请加星这个项目，谢谢你。我爱你\n",
      "2|ja:この項目をスターしてください、ありがとうございます！愛してる\n",
      "----------------------\n",
      "0|en:Please star this project on GitHub\n",
      "1|punctuation:, \n",
      "2|en:Thanks you\n",
      "3|punctuation:. \n",
      "4|en:I love you\n",
      "5|zh:请加星这个项目\n",
      "6|punctuation:，\n",
      "7|zh:谢谢你\n",
      "8|punctuation:。\n",
      "9|zh:我爱你\n",
      "10|ja:この項目をスターしてください\n",
      "11|punctuation:、\n",
      "12|ja:ありがとうございます\n",
      "13|punctuation:！\n",
      "14|ja:愛してる\n",
      "----------------------\n"
     ]
    }
   ],
   "source": [
    "texts = [\n",
    "    \"Please star this project on GitHub, Thanks you. I love you请加星这个项目，谢谢你。我爱你この項目をスターしてください、ありがとうございます！愛してる\",\n",
    "]\n",
    "\n",
    "for text in texts:\n",
    "    substr = split_by_lang(\n",
    "        text=text,\n",
    "        default_lang=\"en\",\n",
    "        threshold=4.9e-5,\n",
    "        merge_across_punctuation=True,\n",
    "    )\n",
    "    for index, item in enumerate(substr):\n",
    "        print(f\"{index}|{item.lang}:{item.text}\")\n",
    "    print(\"----------------------\")\n",
    "\n",
    "for text in texts:\n",
    "    substr = split_by_lang(\n",
    "        text=text,\n",
    "        default_lang=\"en\",\n",
    "        threshold=4.9e-5,\n",
    "        merge_across_punctuation=False,\n",
    "    )\n",
    "    for index, item in enumerate(substr):\n",
    "        print(f\"{index}|{item.lang}:{item.text}\")\n",
    "    print(\"----------------------\")"
   ]
  }
 ],
 "metadata": {
  "kernelspec": {
   "display_name": "melotts",
   "language": "python",
   "name": "python3"
  },
  "language_info": {
   "codemirror_mode": {
    "name": "ipython",
    "version": 3
   },
   "file_extension": ".py",
   "mimetype": "text/x-python",
   "name": "python",
   "nbconvert_exporter": "python",
   "pygments_lexer": "ipython3",
   "version": "3.10.14"
  }
 },
 "nbformat": 4,
 "nbformat_minor": 2
}
